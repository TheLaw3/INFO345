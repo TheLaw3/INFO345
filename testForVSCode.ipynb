{
 "cells": [
  {
   "cell_type": "code",
   "execution_count": null,
   "id": "2decd32a-83e9-4249-b316-f61dad49bd4d",
   "metadata": {},
   "outputs": [
    {
     "ename": "ModuleNotFoundError",
     "evalue": "No module named 'pandas'",
     "output_type": "error",
     "traceback": [
      "\u001b[31m---------------------------------------------------------------------------\u001b[39m",
      "\u001b[31mModuleNotFoundError\u001b[39m                       Traceback (most recent call last)",
      "\u001b[36mCell\u001b[39m\u001b[36m \u001b[39m\u001b[32mIn[1]\u001b[39m\u001b[32m, line 2\u001b[39m\n\u001b[32m      1\u001b[39m \u001b[38;5;66;03m# import relevant packages\u001b[39;00m\n\u001b[32m----> \u001b[39m\u001b[32m2\u001b[39m \u001b[38;5;28;01mimport\u001b[39;00m\u001b[38;5;250m \u001b[39m\u001b[34;01mpandas\u001b[39;00m\u001b[38;5;250m \u001b[39m\u001b[38;5;28;01mas\u001b[39;00m\u001b[38;5;250m \u001b[39m\u001b[34;01mpd\u001b[39;00m\n\u001b[32m      3\u001b[39m \u001b[38;5;28;01mimport\u001b[39;00m\u001b[38;5;250m \u001b[39m\u001b[34;01mnumpy\u001b[39;00m\u001b[38;5;250m \u001b[39m\u001b[38;5;28;01mas\u001b[39;00m\u001b[38;5;250m \u001b[39m\u001b[34;01mnp\u001b[39;00m\n",
      "\u001b[31mModuleNotFoundError\u001b[39m: No module named 'pandas'"
     ]
    }
   ],
   "source": [
    "# import relevant packages\n",
    "import pandas as pd\n",
    "import numpy as np"
   ]
  },
  {
   "cell_type": "code",
   "execution_count": null,
   "id": "db21a179-c57e-4bfe-90e6-7341a93cd8ae",
   "metadata": {},
   "outputs": [],
   "source": [
    "df = pd.read_csv(\"https://www.kaggle.com/datasets/mohamedbakhet/amazon-books-reviews/data?select=Books_rating.csv\")\n",
    "df.info()\n",
    "df.head()\n"
   ]
  },
  {
   "cell_type": "code",
   "execution_count": null,
   "id": "67c6ecbb-9d66-46e6-8733-8fc742fe6977",
   "metadata": {},
   "outputs": [],
   "source": [
    "df = df.dropna(subset=['User_id', 'Id', 'review/score'])\n",
    "df = df.drop_duplicates(subset=['User_id', 'Id'])"
   ]
  },
  {
   "cell_type": "code",
   "execution_count": null,
   "id": "9518c6fc-57dd-46bd-a334-0776cb88f063",
   "metadata": {},
   "outputs": [],
   "source": [
    "df.info()"
   ]
  },
  {
   "cell_type": "code",
   "execution_count": null,
   "id": "95874134-d06a-43e7-8bc0-b37eb89a419f",
   "metadata": {},
   "outputs": [],
   "source": [
    "df['review/score'] = df['review/score'].astype(float)\n",
    "df['Id'] = df['Id'].astype(str)\n",
    "df['User_id'] = df['User_id'].astype(str)\n"
   ]
  },
  {
   "cell_type": "code",
   "execution_count": null,
   "id": "83ef0a93-74e3-4d84-bc58-ffff6f83cec7",
   "metadata": {},
   "outputs": [],
   "source": [
    "user_counts = df['User_id'].value_counts()\n",
    "book_counts = df['Id'].value_counts()\n",
    "df = df[df['User_id'].isin(user_counts[user_counts >= 5].index)]\n",
    "df = df[df['Id'].isin(book_counts[book_counts >= 5].index)]\n"
   ]
  },
  {
   "cell_type": "code",
   "execution_count": null,
   "id": "25bb37b0-8ca7-483b-ac42-9145b6897b45",
   "metadata": {},
   "outputs": [],
   "source": [
    "# Remove the specified columns\n",
    "columns_to_drop = [\"Price\", \"review/helpfulness\", \"review/time\", \"profileName\"]\n",
    "df.drop(columns=columns_to_drop, inplace=True)"
   ]
  },
  {
   "cell_type": "code",
   "execution_count": null,
   "id": "1067a8a8-7426-4cc8-898a-24e825c9aeae",
   "metadata": {},
   "outputs": [],
   "source": [
    "df.head()"
   ]
  },
  {
   "cell_type": "code",
   "execution_count": null,
   "id": "7373be76-8381-4a7a-a3b3-6b420c069ece",
   "metadata": {},
   "outputs": [],
   "source": [
    "# Drop rows where 'Title' is null or empty string\n",
    "df = df[~(df['Title'].isnull() | (df['Title'] == ''))].copy()\n",
    "\n",
    "# Verify that no such rows remain\n",
    "print(df['Title'].isnull().sum())\n",
    "print((df['Title'] == '').sum())"
   ]
  },
  {
   "cell_type": "code",
   "execution_count": null,
   "id": "68a31309-a270-4ec4-bd9c-ae174b551355",
   "metadata": {},
   "outputs": [],
   "source": [
    "df.info()\n",
    "df.tail(10)"
   ]
  },
  {
   "cell_type": "code",
   "execution_count": null,
   "id": "5f77eeac-d8da-4903-b4ec-dc920b7e43ad",
   "metadata": {},
   "outputs": [],
   "source": [
    "# Save cleaned DataFrame to a new CSV file without the index column\n",
    "df.to_csv(\"Books_rating_cleaned.csv\", index=False)"
   ]
  },
  {
   "cell_type": "code",
   "execution_count": null,
   "id": "57fa28cf-aa6e-4d18-a667-daaeadc020c3",
   "metadata": {},
   "outputs": [],
   "source": []
  }
 ],
 "metadata": {
  "kernelspec": {
   "display_name": "Python 3 (ipykernel)",
   "language": "python",
   "name": "python3"
  },
  "language_info": {
   "codemirror_mode": {
    "name": "ipython",
    "version": 3
   },
   "file_extension": ".py",
   "mimetype": "text/x-python",
   "name": "python",
   "nbconvert_exporter": "python",
   "pygments_lexer": "ipython3",
   "version": "3.12.2"
  }
 },
 "nbformat": 4,
 "nbformat_minor": 5
}
