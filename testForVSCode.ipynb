{
 "cells": [
  {
   "cell_type": "code",
   "execution_count": 4,
   "id": "2decd32a-83e9-4249-b316-f61dad49bd4d",
   "metadata": {},
   "outputs": [],
   "source": [
    "# import relevant packages\n",
    "import pandas as pd\n",
    "import numpy as np"
   ]
  },
  {
   "cell_type": "code",
   "execution_count": 3,
   "id": "b3e61955",
   "metadata": {},
   "outputs": [
    {
     "name": "stdout",
     "output_type": "stream",
     "text": [
      "/usr/local/bin/python3\n"
     ]
    }
   ],
   "source": [
    "import sys\n",
    "print(sys.executable)"
   ]
  },
  {
   "cell_type": "code",
   "execution_count": null,
   "id": "67c6ecbb-9d66-46e6-8733-8fc742fe6977",
   "metadata": {},
   "outputs": [],
   "source": [
    "df = pd.read_csv(\"./archive/Books_rating.csv\")\n",
    "df = df.dropna(subset=['User_id', 'Id', 'review/score'])\n",
    "df = df.drop_duplicates(subset=['User_id', 'Id'])"
   ]
  },
  {
   "cell_type": "code",
   "execution_count": null,
   "id": "9518c6fc-57dd-46bd-a334-0776cb88f063",
   "metadata": {},
   "outputs": [],
   "source": [
    "df.info()"
   ]
  },
  {
   "cell_type": "code",
   "execution_count": null,
   "id": "95874134-d06a-43e7-8bc0-b37eb89a419f",
   "metadata": {},
   "outputs": [],
   "source": [
    "df['review/score'] = df['review/score'].astype(float)\n",
    "df['Id'] = df['Id'].astype(str)\n",
    "df['User_id'] = df['User_id'].astype(str)\n"
   ]
  },
  {
   "cell_type": "code",
   "execution_count": null,
   "id": "83ef0a93-74e3-4d84-bc58-ffff6f83cec7",
   "metadata": {},
   "outputs": [],
   "source": [
    "user_counts = df['User_id'].value_counts()\n",
    "book_counts = df['Id'].value_counts()\n",
    "df = df[df['User_id'].isin(user_counts[user_counts >= 5].index)]\n",
    "df = df[df['Id'].isin(book_counts[book_counts >= 5].index)]\n"
   ]
  },
  {
   "cell_type": "code",
   "execution_count": null,
   "id": "25bb37b0-8ca7-483b-ac42-9145b6897b45",
   "metadata": {},
   "outputs": [],
   "source": [
    "# Remove the specified columns\n",
    "columns_to_drop = [\"Price\", \"review/helpfulness\", \"review/time\", \"profileName\"]\n",
    "df.drop(columns=columns_to_drop, inplace=True)"
   ]
  },
  {
   "cell_type": "code",
   "execution_count": null,
   "id": "1067a8a8-7426-4cc8-898a-24e825c9aeae",
   "metadata": {},
   "outputs": [],
   "source": [
    "df.head()"
   ]
  },
  {
   "cell_type": "code",
   "execution_count": null,
   "id": "7373be76-8381-4a7a-a3b3-6b420c069ece",
   "metadata": {},
   "outputs": [],
   "source": [
    "# Drop rows where 'Title' is null or empty string\n",
    "df = df[~(df['Title'].isnull() | (df['Title'] == ''))].copy()\n",
    "\n",
    "# Verify that no such rows remain\n",
    "print(df['Title'].isnull().sum())\n",
    "print((df['Title'] == '').sum())"
   ]
  },
  {
   "cell_type": "code",
   "execution_count": null,
   "id": "68a31309-a270-4ec4-bd9c-ae174b551355",
   "metadata": {},
   "outputs": [],
   "source": [
    "df.info()\n",
    "df.tail(10)"
   ]
  },
  {
   "cell_type": "code",
   "execution_count": null,
   "id": "57fa28cf-aa6e-4d18-a667-daaeadc020c3",
   "metadata": {},
   "outputs": [],
   "source": [
    "# Plot histogram\n",
    "plt.figure(figsize=(8, 5))\n",
    "plt.hist(df['review/score'], bins=[0.5, 1.5, 2.5, 3.5, 4.5, 5.5], color='skyblue', edgecolor='black', rwidth=0.8)\n",
    "plt.title('Distribution of Review Scores')\n",
    "plt.xticks([1, 2, 3, 4, 5])\n",
    "plt.xlabel('Review Score')\n",
    "plt.ylabel('Frequency')\n",
    "plt.grid(axis='y', linestyle='--')\n",
    "plt.show()"
   ]
  },
  {
   "cell_type": "code",
   "execution_count": null,
   "id": "c874957f",
   "metadata": {},
   "outputs": [],
   "source": [
    "mean_score = df['review/score'].mean()\n",
    "variance_score = df['review/score'].var()\n",
    "std_score = df['review/score'].std()\n",
    "median_score = df['review/score'].median()\n",
    "\n",
    "print(\"Mean:\", mean_score)\n",
    "print(\"Variance:\", variance_score)\n",
    "print(\"Standard Deviation:\", std_score)\n",
    "print(\"Median:\", median_score)"
   ]
  },
  {
   "cell_type": "code",
   "execution_count": null,
   "id": "7f1c9b6d",
   "metadata": {},
   "outputs": [],
   "source": [
    "import matplotlib.pyplot as plt\n",
    "\n",
    "user_review_counts = df['User_id'].value_counts()\n",
    "plt.figure(figsize=(8, 5))\n",
    "plt.hist(user_review_counts, bins=20, color='lightgreen', edgecolor='black', log=True)\n",
    "plt.title('Number of Reviews per User')\n",
    "plt.xlabel('Reviews per User')\n",
    "plt.ylabel('Number of Users (log scale)')\n",
    "plt.grid(axis='y', linestyle='--')\n",
    "plt.show()\n"
   ]
  },
  {
   "cell_type": "code",
   "execution_count": null,
   "id": "83755056",
   "metadata": {},
   "outputs": [],
   "source": [
    "book_review_counts = df['Id'].value_counts()\n",
    "plt.figure(figsize=(8, 5))\n",
    "plt.hist(book_review_counts, bins=20, color='lightblue', edgecolor='black', log=True)\n",
    "plt.title('Number of Reviews per Book')\n",
    "plt.xlabel('Reviews per Book')\n",
    "plt.ylabel('Number of Books (log scale)')\n",
    "plt.grid(axis='y', linestyle='--')\n",
    "plt.show()\n"
   ]
  },
  {
   "cell_type": "code",
   "execution_count": null,
   "id": "768256bb",
   "metadata": {},
   "outputs": [],
   "source": [
    "top_books = df['Id'].value_counts().head(5)\n",
    "print(\"Top 5 books with most reviews:\")\n",
    "print(top_books)"
   ]
  },
  {
   "cell_type": "code",
   "execution_count": null,
   "id": "b254c71c",
   "metadata": {},
   "outputs": [],
   "source": [
    "least_books = df['Id'].value_counts().tail(5)\n",
    "print(\"5 books with least reviews:\")\n",
    "print(least_books)"
   ]
  },
  {
   "cell_type": "code",
   "execution_count": null,
   "id": "a6cb1fb6",
   "metadata": {},
   "outputs": [],
   "source": [
    "# Top 5\n",
    "top_book_ids = top_books.index\n",
    "top_book_titles = df[df['Id'].isin(top_book_ids)][['Id', 'Title']].drop_duplicates()\n",
    "print(top_book_titles)\n",
    "\n",
    "print(\"\")\n",
    "print(\"\")\n",
    "# Least 5\n",
    "least_book_ids = least_books.index\n",
    "least_book_titles = df[df['Id'].isin(least_book_ids)][['Id', 'Title']].drop_duplicates()\n",
    "print(least_book_titles)\n"
   ]
  }
 ],
 "metadata": {
  "kernelspec": {
   "display_name": "Python 3 (ipykernel)",
   "language": "python",
   "name": "python3"
  },
  "language_info": {
   "codemirror_mode": {
    "name": "ipython",
    "version": 3
   },
   "file_extension": ".py",
   "mimetype": "text/x-python",
   "name": "python",
   "nbconvert_exporter": "python",
   "pygments_lexer": "ipython3",
   "version": "3.12.2"
  }
 },
 "nbformat": 4,
 "nbformat_minor": 5
}
