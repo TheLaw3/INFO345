{
 "cells": [
  {
   "cell_type": "code",
   "execution_count": 15,
   "id": "2decd32a-83e9-4249-b316-f61dad49bd4d",
   "metadata": {},
   "outputs": [],
   "source": [
    "# import relevant packages\n",
    "import pandas as pd\n",
    "import numpy as np\n"
   ]
  },
  {
   "cell_type": "code",
   "execution_count": 19,
   "id": "f0a46a79",
   "metadata": {},
   "outputs": [
    {
     "ename": "ModuleNotFoundError",
     "evalue": "No module named 'matplotlib'",
     "output_type": "error",
     "traceback": [
      "\u001b[31m---------------------------------------------------------------------------\u001b[39m",
      "\u001b[31mModuleNotFoundError\u001b[39m                       Traceback (most recent call last)",
      "\u001b[36mCell\u001b[39m\u001b[36m \u001b[39m\u001b[32mIn[19]\u001b[39m\u001b[32m, line 1\u001b[39m\n\u001b[32m----> \u001b[39m\u001b[32m1\u001b[39m \u001b[38;5;28;01mimport\u001b[39;00m\u001b[38;5;250m \u001b[39m\u001b[34;01mmatplotlib\u001b[39;00m\u001b[34;01m.\u001b[39;00m\u001b[34;01mpyplot\u001b[39;00m\u001b[38;5;250m \u001b[39m\u001b[38;5;28;01mas\u001b[39;00m\u001b[38;5;250m \u001b[39m\u001b[34;01mplt\u001b[39;00m\n",
      "\u001b[31mModuleNotFoundError\u001b[39m: No module named 'matplotlib'"
     ]
    }
   ],
   "source": [
    "import matplotlib.pyplot as plt"
   ]
  },
  {
   "cell_type": "code",
   "execution_count": 2,
   "id": "b3e61955",
   "metadata": {},
   "outputs": [
    {
     "name": "stdout",
     "output_type": "stream",
     "text": [
      "/usr/local/bin/python3\n"
     ]
    }
   ],
   "source": [
    "import sys\n",
    "print(sys.executable)"
   ]
  },
  {
   "cell_type": "code",
   "execution_count": 3,
   "id": "67c6ecbb-9d66-46e6-8733-8fc742fe6977",
   "metadata": {},
   "outputs": [],
   "source": [
    "df = pd.read_csv(\"./ratings_clean.csv\")\n",
    "df = df.dropna(subset=['user_id', 'item_id', 'rating', 'title'])\n",
    "df = df.drop_duplicates(subset=['user_id', 'item_id'])\n"
   ]
  },
  {
   "cell_type": "code",
   "execution_count": 4,
   "id": "9518c6fc-57dd-46bd-a334-0776cb88f063",
   "metadata": {},
   "outputs": [
    {
     "name": "stdout",
     "output_type": "stream",
     "text": [
      "<class 'pandas.core.frame.DataFrame'>\n",
      "Index: 944578 entries, 0 to 1121217\n",
      "Data columns (total 4 columns):\n",
      " #   Column   Non-Null Count   Dtype  \n",
      "---  ------   --------------   -----  \n",
      " 0   user_id  944578 non-null  object \n",
      " 1   item_id  944578 non-null  object \n",
      " 2   rating   944578 non-null  float64\n",
      " 3   title    944578 non-null  object \n",
      "dtypes: float64(1), object(3)\n",
      "memory usage: 36.0+ MB\n"
     ]
    }
   ],
   "source": [
    "df.info()"
   ]
  },
  {
   "cell_type": "code",
   "execution_count": 6,
   "id": "95874134-d06a-43e7-8bc0-b37eb89a419f",
   "metadata": {},
   "outputs": [],
   "source": [
    "df['rating'] = df['rating'].astype(float)\n",
    "df['item_id'] = df['item_id'].astype(str)\n",
    "df['user_id'] = df['user_id'].astype(str)\n"
   ]
  },
  {
   "cell_type": "code",
   "execution_count": 7,
   "id": "83ef0a93-74e3-4d84-bc58-ffff6f83cec7",
   "metadata": {},
   "outputs": [],
   "source": [
    "user_counts = df['user_id'].value_counts()\n",
    "book_counts = df['item_id'].value_counts()\n",
    "df = df[df['user_id'].isin(user_counts[user_counts >= 5].index)]\n",
    "df = df[df['item_id'].isin(book_counts[book_counts >= 5].index)]\n"
   ]
  },
  {
   "cell_type": "code",
   "execution_count": 9,
   "id": "25bb37b0-8ca7-483b-ac42-9145b6897b45",
   "metadata": {},
   "outputs": [
    {
     "name": "stdout",
     "output_type": "stream",
     "text": [
      "<class 'pandas.core.frame.DataFrame'>\n",
      "Index: 917908 entries, 0 to 1121207\n",
      "Data columns (total 4 columns):\n",
      " #   Column   Non-Null Count   Dtype  \n",
      "---  ------   --------------   -----  \n",
      " 0   user_id  917908 non-null  object \n",
      " 1   item_id  917908 non-null  object \n",
      " 2   rating   917908 non-null  float64\n",
      " 3   title    917908 non-null  object \n",
      "dtypes: float64(1), object(3)\n",
      "memory usage: 35.0+ MB\n"
     ]
    }
   ],
   "source": [
    "df.info()"
   ]
  },
  {
   "cell_type": "code",
   "execution_count": 10,
   "id": "1067a8a8-7426-4cc8-898a-24e825c9aeae",
   "metadata": {},
   "outputs": [
    {
     "data": {
      "text/html": [
       "<div>\n",
       "<style scoped>\n",
       "    .dataframe tbody tr th:only-of-type {\n",
       "        vertical-align: middle;\n",
       "    }\n",
       "\n",
       "    .dataframe tbody tr th {\n",
       "        vertical-align: top;\n",
       "    }\n",
       "\n",
       "    .dataframe thead th {\n",
       "        text-align: right;\n",
       "    }\n",
       "</style>\n",
       "<table border=\"1\" class=\"dataframe\">\n",
       "  <thead>\n",
       "    <tr style=\"text-align: right;\">\n",
       "      <th></th>\n",
       "      <th>user_id</th>\n",
       "      <th>item_id</th>\n",
       "      <th>rating</th>\n",
       "      <th>title</th>\n",
       "    </tr>\n",
       "  </thead>\n",
       "  <tbody>\n",
       "    <tr>\n",
       "      <th>0</th>\n",
       "      <td>A30TK6U7DNS82R</td>\n",
       "      <td>0826414346</td>\n",
       "      <td>5.0</td>\n",
       "      <td>Dr. Seuss: American Icon</td>\n",
       "    </tr>\n",
       "    <tr>\n",
       "      <th>1</th>\n",
       "      <td>A2MVUWT453QH61</td>\n",
       "      <td>0826414346</td>\n",
       "      <td>4.0</td>\n",
       "      <td>Dr. Seuss: American Icon</td>\n",
       "    </tr>\n",
       "    <tr>\n",
       "      <th>2</th>\n",
       "      <td>A22X4XUPKF66MR</td>\n",
       "      <td>0826414346</td>\n",
       "      <td>4.0</td>\n",
       "      <td>Dr. Seuss: American Icon</td>\n",
       "    </tr>\n",
       "    <tr>\n",
       "      <th>3</th>\n",
       "      <td>A2F6NONFUDB6UK</td>\n",
       "      <td>0826414346</td>\n",
       "      <td>4.0</td>\n",
       "      <td>Dr. Seuss: American Icon</td>\n",
       "    </tr>\n",
       "    <tr>\n",
       "      <th>4</th>\n",
       "      <td>A14OJS0VWMOSWO</td>\n",
       "      <td>0826414346</td>\n",
       "      <td>5.0</td>\n",
       "      <td>Dr. Seuss: American Icon</td>\n",
       "    </tr>\n",
       "  </tbody>\n",
       "</table>\n",
       "</div>"
      ],
      "text/plain": [
       "          user_id     item_id  rating                     title\n",
       "0  A30TK6U7DNS82R  0826414346     5.0  Dr. Seuss: American Icon\n",
       "1  A2MVUWT453QH61  0826414346     4.0  Dr. Seuss: American Icon\n",
       "2  A22X4XUPKF66MR  0826414346     4.0  Dr. Seuss: American Icon\n",
       "3  A2F6NONFUDB6UK  0826414346     4.0  Dr. Seuss: American Icon\n",
       "4  A14OJS0VWMOSWO  0826414346     5.0  Dr. Seuss: American Icon"
      ]
     },
     "execution_count": 10,
     "metadata": {},
     "output_type": "execute_result"
    }
   ],
   "source": [
    "df.head()"
   ]
  },
  {
   "cell_type": "code",
   "execution_count": 11,
   "id": "7373be76-8381-4a7a-a3b3-6b420c069ece",
   "metadata": {},
   "outputs": [
    {
     "name": "stdout",
     "output_type": "stream",
     "text": [
      "0\n",
      "0\n"
     ]
    }
   ],
   "source": [
    "# Drop rows where 'Title' is null or empty string\n",
    "df = df[~(df['title'].isnull() | (df['title'] == ''))].copy()\n",
    "\n",
    "# Verify that no such rows remain\n",
    "print(df['title'].isnull().sum())\n",
    "print((df['title'] == '').sum())"
   ]
  },
  {
   "cell_type": "code",
   "execution_count": null,
   "id": "68a31309-a270-4ec4-bd9c-ae174b551355",
   "metadata": {},
   "outputs": [],
   "source": [
    "df.info()\n",
    "df.tail(10)"
   ]
  },
  {
   "cell_type": "code",
   "execution_count": 13,
   "id": "57fa28cf-aa6e-4d18-a667-daaeadc020c3",
   "metadata": {},
   "outputs": [
    {
     "ename": "NameError",
     "evalue": "name 'plt' is not defined",
     "output_type": "error",
     "traceback": [
      "\u001b[31m---------------------------------------------------------------------------\u001b[39m",
      "\u001b[31mNameError\u001b[39m                                 Traceback (most recent call last)",
      "\u001b[36mCell\u001b[39m\u001b[36m \u001b[39m\u001b[32mIn[13]\u001b[39m\u001b[32m, line 2\u001b[39m\n\u001b[32m      1\u001b[39m \u001b[38;5;66;03m# Plot histogram\u001b[39;00m\n\u001b[32m----> \u001b[39m\u001b[32m2\u001b[39m \u001b[43mplt\u001b[49m.figure(figsize=(\u001b[32m8\u001b[39m, \u001b[32m5\u001b[39m))\n\u001b[32m      3\u001b[39m plt.hist(df[\u001b[33m'\u001b[39m\u001b[33mrating\u001b[39m\u001b[33m'\u001b[39m], bins=[\u001b[32m0.5\u001b[39m, \u001b[32m1.5\u001b[39m, \u001b[32m2.5\u001b[39m, \u001b[32m3.5\u001b[39m, \u001b[32m4.5\u001b[39m, \u001b[32m5.5\u001b[39m], color=\u001b[33m'\u001b[39m\u001b[33mskyblue\u001b[39m\u001b[33m'\u001b[39m, edgecolor=\u001b[33m'\u001b[39m\u001b[33mblack\u001b[39m\u001b[33m'\u001b[39m, rwidth=\u001b[32m0.8\u001b[39m)\n\u001b[32m      4\u001b[39m plt.title(\u001b[33m'\u001b[39m\u001b[33mDistribution of Review Scores\u001b[39m\u001b[33m'\u001b[39m)\n",
      "\u001b[31mNameError\u001b[39m: name 'plt' is not defined"
     ]
    }
   ],
   "source": [
    "# Plot histogram\n",
    "plt.figure(figsize=(8, 5))\n",
    "plt.hist(df['rating'], bins=[0.5, 1.5, 2.5, 3.5, 4.5, 5.5], color='skyblue', edgecolor='black', rwidth=0.8)\n",
    "plt.title('Distribution of Review Scores')\n",
    "plt.xticks([1, 2, 3, 4, 5])\n",
    "plt.xlabel('Rating')\n",
    "plt.ylabel('Frequency')\n",
    "plt.grid(axis='y', linestyle='--')\n",
    "plt.show()"
   ]
  },
  {
   "cell_type": "code",
   "execution_count": null,
   "id": "c874957f",
   "metadata": {},
   "outputs": [],
   "source": [
    "mean_score = df['review/score'].mean()\n",
    "variance_score = df['review/score'].var()\n",
    "std_score = df['review/score'].std()\n",
    "median_score = df['review/score'].median()\n",
    "\n",
    "print(\"Mean:\", mean_score)\n",
    "print(\"Variance:\", variance_score)\n",
    "print(\"Standard Deviation:\", std_score)\n",
    "print(\"Median:\", median_score)"
   ]
  },
  {
   "cell_type": "code",
   "execution_count": null,
   "id": "7f1c9b6d",
   "metadata": {},
   "outputs": [],
   "source": [
    "import matplotlib.pyplot as plt\n",
    "\n",
    "user_review_counts = df['User_id'].value_counts()\n",
    "plt.figure(figsize=(8, 5))\n",
    "plt.hist(user_review_counts, bins=20, color='lightgreen', edgecolor='black', log=True)\n",
    "plt.title('Number of Reviews per User')\n",
    "plt.xlabel('Reviews per User')\n",
    "plt.ylabel('Number of Users (log scale)')\n",
    "plt.grid(axis='y', linestyle='--')\n",
    "plt.show()\n"
   ]
  },
  {
   "cell_type": "code",
   "execution_count": null,
   "id": "83755056",
   "metadata": {},
   "outputs": [],
   "source": [
    "book_review_counts = df['Id'].value_counts()\n",
    "plt.figure(figsize=(8, 5))\n",
    "plt.hist(book_review_counts, bins=20, color='lightblue', edgecolor='black', log=True)\n",
    "plt.title('Number of Reviews per Book')\n",
    "plt.xlabel('Reviews per Book')\n",
    "plt.ylabel('Number of Books (log scale)')\n",
    "plt.grid(axis='y', linestyle='--')\n",
    "plt.show()\n"
   ]
  },
  {
   "cell_type": "code",
   "execution_count": null,
   "id": "768256bb",
   "metadata": {},
   "outputs": [],
   "source": [
    "top_books = df['Id'].value_counts().head(5)\n",
    "print(\"Top 5 books with most reviews:\")\n",
    "print(top_books)"
   ]
  },
  {
   "cell_type": "code",
   "execution_count": null,
   "id": "b254c71c",
   "metadata": {},
   "outputs": [],
   "source": [
    "least_books = df['Id'].value_counts().tail(5)\n",
    "print(\"5 books with least reviews:\")\n",
    "print(least_books)"
   ]
  },
  {
   "cell_type": "code",
   "execution_count": null,
   "id": "a6cb1fb6",
   "metadata": {},
   "outputs": [],
   "source": [
    "# Top 5\n",
    "top_book_ids = top_books.index\n",
    "top_book_titles = df[df['Id'].isin(top_book_ids)][['Id', 'Title']].drop_duplicates()\n",
    "print(top_book_titles)\n",
    "\n",
    "print(\"\")\n",
    "print(\"\")\n",
    "# Least 5\n",
    "least_book_ids = least_books.index\n",
    "least_book_titles = df[df['Id'].isin(least_book_ids)][['Id', 'Title']].drop_duplicates()\n",
    "print(least_book_titles)\n"
   ]
  }
 ],
 "metadata": {
  "kernelspec": {
   "display_name": "Python 3 (ipykernel)",
   "language": "python",
   "name": "python3"
  },
  "language_info": {
   "codemirror_mode": {
    "name": "ipython",
    "version": 3
   },
   "file_extension": ".py",
   "mimetype": "text/x-python",
   "name": "python",
   "nbconvert_exporter": "python",
   "pygments_lexer": "ipython3",
   "version": "3.12.2"
  }
 },
 "nbformat": 4,
 "nbformat_minor": 5
}
